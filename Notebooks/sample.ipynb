{
 "cells": [
  {
   "cell_type": "code",
   "execution_count": null,
   "id": "c9b09c3a-3083-4a5f-9f99-cd06e48ea2d7",
   "metadata": {},
   "outputs": [],
   "source": [
    "#Our journey starts here"
   ]
  }
 ],
 "metadata": {
  "kernelspec": {
   "display_name": "Python 3 (ipykernel)",
   "language": "python",
   "name": "python3"
  },
  "language_info": {
   "codemirror_mode": {
    "name": "ipython",
    "version": 3
   },
   "file_extension": ".py",
   "mimetype": "text/x-python",
   "name": "python",
   "nbconvert_exporter": "python",
   "pygments_lexer": "ipython3",
   "version": "3.11.8"
  }
 },
 "nbformat": 4,
 "nbformat_minor": 5
}
