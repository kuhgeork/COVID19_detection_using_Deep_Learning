{
  "cells": [
    {
      "cell_type": "code",
      "execution_count": 1,
      "metadata": {
        "colab": {
          "base_uri": "https://localhost:8080/"
        },
        "id": "8Ida-mtvTj_3",
        "outputId": "8e8e4052-e722-4d62-fe0e-f010db958b46"
      },
      "outputs": [
        {
          "output_type": "stream",
          "name": "stdout",
          "text": [
            "Requirement already satisfied: google-colab in /usr/local/lib/python3.10/dist-packages (1.0.0)\n",
            "Requirement already satisfied: google-auth==2.27.0 in /usr/local/lib/python3.10/dist-packages (from google-colab) (2.27.0)\n",
            "Requirement already satisfied: ipykernel==5.5.6 in /usr/local/lib/python3.10/dist-packages (from google-colab) (5.5.6)\n",
            "Requirement already satisfied: ipython==7.34.0 in /usr/local/lib/python3.10/dist-packages (from google-colab) (7.34.0)\n",
            "Requirement already satisfied: notebook==6.5.5 in /usr/local/lib/python3.10/dist-packages (from google-colab) (6.5.5)\n",
            "Requirement already satisfied: pandas==2.0.3 in /usr/local/lib/python3.10/dist-packages (from google-colab) (2.0.3)\n",
            "Requirement already satisfied: portpicker==1.5.2 in /usr/local/lib/python3.10/dist-packages (from google-colab) (1.5.2)\n",
            "Requirement already satisfied: requests==2.31.0 in /usr/local/lib/python3.10/dist-packages (from google-colab) (2.31.0)\n",
            "Requirement already satisfied: tornado==6.3.3 in /usr/local/lib/python3.10/dist-packages (from google-colab) (6.3.3)\n",
            "Requirement already satisfied: cachetools<6.0,>=2.0.0 in /usr/local/lib/python3.10/dist-packages (from google-auth==2.27.0->google-colab) (5.3.3)\n",
            "Requirement already satisfied: pyasn1-modules>=0.2.1 in /usr/local/lib/python3.10/dist-packages (from google-auth==2.27.0->google-colab) (0.4.0)\n",
            "Requirement already satisfied: rsa<5,>=3.1.4 in /usr/local/lib/python3.10/dist-packages (from google-auth==2.27.0->google-colab) (4.9)\n",
            "Requirement already satisfied: ipython-genutils in /usr/local/lib/python3.10/dist-packages (from ipykernel==5.5.6->google-colab) (0.2.0)\n",
            "Requirement already satisfied: traitlets>=4.1.0 in /usr/local/lib/python3.10/dist-packages (from ipykernel==5.5.6->google-colab) (5.7.1)\n",
            "Requirement already satisfied: jupyter-client in /usr/local/lib/python3.10/dist-packages (from ipykernel==5.5.6->google-colab) (6.1.12)\n",
            "Requirement already satisfied: setuptools>=18.5 in /usr/local/lib/python3.10/dist-packages (from ipython==7.34.0->google-colab) (67.7.2)\n",
            "Collecting jedi>=0.16 (from ipython==7.34.0->google-colab)\n",
            "  Downloading jedi-0.19.1-py2.py3-none-any.whl (1.6 MB)\n",
            "\u001b[2K     \u001b[90m━━━━━━━━━━━━━━━━━━━━━━━━━━━━━━━━━━━━━━━━\u001b[0m \u001b[32m1.6/1.6 MB\u001b[0m \u001b[31m5.7 MB/s\u001b[0m eta \u001b[36m0:00:00\u001b[0m\n",
            "\u001b[?25hRequirement already satisfied: decorator in /usr/local/lib/python3.10/dist-packages (from ipython==7.34.0->google-colab) (4.4.2)\n",
            "Requirement already satisfied: pickleshare in /usr/local/lib/python3.10/dist-packages (from ipython==7.34.0->google-colab) (0.7.5)\n",
            "Requirement already satisfied: prompt-toolkit!=3.0.0,!=3.0.1,<3.1.0,>=2.0.0 in /usr/local/lib/python3.10/dist-packages (from ipython==7.34.0->google-colab) (3.0.43)\n",
            "Requirement already satisfied: pygments in /usr/local/lib/python3.10/dist-packages (from ipython==7.34.0->google-colab) (2.16.1)\n",
            "Requirement already satisfied: backcall in /usr/local/lib/python3.10/dist-packages (from ipython==7.34.0->google-colab) (0.2.0)\n",
            "Requirement already satisfied: matplotlib-inline in /usr/local/lib/python3.10/dist-packages (from ipython==7.34.0->google-colab) (0.1.6)\n",
            "Requirement already satisfied: pexpect>4.3 in /usr/local/lib/python3.10/dist-packages (from ipython==7.34.0->google-colab) (4.9.0)\n",
            "Requirement already satisfied: jinja2 in /usr/local/lib/python3.10/dist-packages (from notebook==6.5.5->google-colab) (3.1.3)\n",
            "Requirement already satisfied: pyzmq<25,>=17 in /usr/local/lib/python3.10/dist-packages (from notebook==6.5.5->google-colab) (23.2.1)\n",
            "Requirement already satisfied: argon2-cffi in /usr/local/lib/python3.10/dist-packages (from notebook==6.5.5->google-colab) (23.1.0)\n",
            "Requirement already satisfied: jupyter-core>=4.6.1 in /usr/local/lib/python3.10/dist-packages (from notebook==6.5.5->google-colab) (5.7.2)\n",
            "Requirement already satisfied: nbformat in /usr/local/lib/python3.10/dist-packages (from notebook==6.5.5->google-colab) (5.10.4)\n",
            "Requirement already satisfied: nbconvert>=5 in /usr/local/lib/python3.10/dist-packages (from notebook==6.5.5->google-colab) (6.5.4)\n",
            "Requirement already satisfied: nest-asyncio>=1.5 in /usr/local/lib/python3.10/dist-packages (from notebook==6.5.5->google-colab) (1.6.0)\n",
            "Requirement already satisfied: Send2Trash>=1.8.0 in /usr/local/lib/python3.10/dist-packages (from notebook==6.5.5->google-colab) (1.8.3)\n",
            "Requirement already satisfied: terminado>=0.8.3 in /usr/local/lib/python3.10/dist-packages (from notebook==6.5.5->google-colab) (0.18.1)\n",
            "Requirement already satisfied: prometheus-client in /usr/local/lib/python3.10/dist-packages (from notebook==6.5.5->google-colab) (0.20.0)\n",
            "Requirement already satisfied: nbclassic>=0.4.7 in /usr/local/lib/python3.10/dist-packages (from notebook==6.5.5->google-colab) (1.0.0)\n",
            "Requirement already satisfied: python-dateutil>=2.8.2 in /usr/local/lib/python3.10/dist-packages (from pandas==2.0.3->google-colab) (2.8.2)\n",
            "Requirement already satisfied: pytz>=2020.1 in /usr/local/lib/python3.10/dist-packages (from pandas==2.0.3->google-colab) (2023.4)\n",
            "Requirement already satisfied: tzdata>=2022.1 in /usr/local/lib/python3.10/dist-packages (from pandas==2.0.3->google-colab) (2024.1)\n",
            "Requirement already satisfied: numpy>=1.21.0 in /usr/local/lib/python3.10/dist-packages (from pandas==2.0.3->google-colab) (1.25.2)\n",
            "Requirement already satisfied: psutil in /usr/local/lib/python3.10/dist-packages (from portpicker==1.5.2->google-colab) (5.9.5)\n",
            "Requirement already satisfied: charset-normalizer<4,>=2 in /usr/local/lib/python3.10/dist-packages (from requests==2.31.0->google-colab) (3.3.2)\n",
            "Requirement already satisfied: idna<4,>=2.5 in /usr/local/lib/python3.10/dist-packages (from requests==2.31.0->google-colab) (3.6)\n",
            "Requirement already satisfied: urllib3<3,>=1.21.1 in /usr/local/lib/python3.10/dist-packages (from requests==2.31.0->google-colab) (2.0.7)\n",
            "Requirement already satisfied: certifi>=2017.4.17 in /usr/local/lib/python3.10/dist-packages (from requests==2.31.0->google-colab) (2024.2.2)\n",
            "Requirement already satisfied: parso<0.9.0,>=0.8.3 in /usr/local/lib/python3.10/dist-packages (from jedi>=0.16->ipython==7.34.0->google-colab) (0.8.4)\n",
            "Requirement already satisfied: platformdirs>=2.5 in /usr/local/lib/python3.10/dist-packages (from jupyter-core>=4.6.1->notebook==6.5.5->google-colab) (4.2.0)\n",
            "Requirement already satisfied: jupyter-server>=1.8 in /usr/local/lib/python3.10/dist-packages (from nbclassic>=0.4.7->notebook==6.5.5->google-colab) (1.24.0)\n",
            "Requirement already satisfied: notebook-shim>=0.2.3 in /usr/local/lib/python3.10/dist-packages (from nbclassic>=0.4.7->notebook==6.5.5->google-colab) (0.2.4)\n",
            "Requirement already satisfied: lxml in /usr/local/lib/python3.10/dist-packages (from nbconvert>=5->notebook==6.5.5->google-colab) (4.9.4)\n",
            "Requirement already satisfied: beautifulsoup4 in /usr/local/lib/python3.10/dist-packages (from nbconvert>=5->notebook==6.5.5->google-colab) (4.12.3)\n",
            "Requirement already satisfied: bleach in /usr/local/lib/python3.10/dist-packages (from nbconvert>=5->notebook==6.5.5->google-colab) (6.1.0)\n",
            "Requirement already satisfied: defusedxml in /usr/local/lib/python3.10/dist-packages (from nbconvert>=5->notebook==6.5.5->google-colab) (0.7.1)\n",
            "Requirement already satisfied: entrypoints>=0.2.2 in /usr/local/lib/python3.10/dist-packages (from nbconvert>=5->notebook==6.5.5->google-colab) (0.4)\n",
            "Requirement already satisfied: jupyterlab-pygments in /usr/local/lib/python3.10/dist-packages (from nbconvert>=5->notebook==6.5.5->google-colab) (0.3.0)\n",
            "Requirement already satisfied: MarkupSafe>=2.0 in /usr/local/lib/python3.10/dist-packages (from nbconvert>=5->notebook==6.5.5->google-colab) (2.1.5)\n",
            "Requirement already satisfied: mistune<2,>=0.8.1 in /usr/local/lib/python3.10/dist-packages (from nbconvert>=5->notebook==6.5.5->google-colab) (0.8.4)\n",
            "Requirement already satisfied: nbclient>=0.5.0 in /usr/local/lib/python3.10/dist-packages (from nbconvert>=5->notebook==6.5.5->google-colab) (0.10.0)\n",
            "Requirement already satisfied: packaging in /usr/local/lib/python3.10/dist-packages (from nbconvert>=5->notebook==6.5.5->google-colab) (24.0)\n",
            "Requirement already satisfied: pandocfilters>=1.4.1 in /usr/local/lib/python3.10/dist-packages (from nbconvert>=5->notebook==6.5.5->google-colab) (1.5.1)\n",
            "Requirement already satisfied: tinycss2 in /usr/local/lib/python3.10/dist-packages (from nbconvert>=5->notebook==6.5.5->google-colab) (1.2.1)\n",
            "Requirement already satisfied: fastjsonschema>=2.15 in /usr/local/lib/python3.10/dist-packages (from nbformat->notebook==6.5.5->google-colab) (2.19.1)\n",
            "Requirement already satisfied: jsonschema>=2.6 in /usr/local/lib/python3.10/dist-packages (from nbformat->notebook==6.5.5->google-colab) (4.19.2)\n",
            "Requirement already satisfied: ptyprocess>=0.5 in /usr/local/lib/python3.10/dist-packages (from pexpect>4.3->ipython==7.34.0->google-colab) (0.7.0)\n",
            "Requirement already satisfied: wcwidth in /usr/local/lib/python3.10/dist-packages (from prompt-toolkit!=3.0.0,!=3.0.1,<3.1.0,>=2.0.0->ipython==7.34.0->google-colab) (0.2.13)\n",
            "Requirement already satisfied: pyasn1<0.7.0,>=0.4.6 in /usr/local/lib/python3.10/dist-packages (from pyasn1-modules>=0.2.1->google-auth==2.27.0->google-colab) (0.6.0)\n",
            "Requirement already satisfied: six>=1.5 in /usr/local/lib/python3.10/dist-packages (from python-dateutil>=2.8.2->pandas==2.0.3->google-colab) (1.16.0)\n",
            "Requirement already satisfied: argon2-cffi-bindings in /usr/local/lib/python3.10/dist-packages (from argon2-cffi->notebook==6.5.5->google-colab) (21.2.0)\n",
            "Requirement already satisfied: attrs>=22.2.0 in /usr/local/lib/python3.10/dist-packages (from jsonschema>=2.6->nbformat->notebook==6.5.5->google-colab) (23.2.0)\n",
            "Requirement already satisfied: jsonschema-specifications>=2023.03.6 in /usr/local/lib/python3.10/dist-packages (from jsonschema>=2.6->nbformat->notebook==6.5.5->google-colab) (2023.12.1)\n",
            "Requirement already satisfied: referencing>=0.28.4 in /usr/local/lib/python3.10/dist-packages (from jsonschema>=2.6->nbformat->notebook==6.5.5->google-colab) (0.34.0)\n",
            "Requirement already satisfied: rpds-py>=0.7.1 in /usr/local/lib/python3.10/dist-packages (from jsonschema>=2.6->nbformat->notebook==6.5.5->google-colab) (0.18.0)\n",
            "Requirement already satisfied: anyio<4,>=3.1.0 in /usr/local/lib/python3.10/dist-packages (from jupyter-server>=1.8->nbclassic>=0.4.7->notebook==6.5.5->google-colab) (3.7.1)\n",
            "Requirement already satisfied: websocket-client in /usr/local/lib/python3.10/dist-packages (from jupyter-server>=1.8->nbclassic>=0.4.7->notebook==6.5.5->google-colab) (1.7.0)\n",
            "Requirement already satisfied: cffi>=1.0.1 in /usr/local/lib/python3.10/dist-packages (from argon2-cffi-bindings->argon2-cffi->notebook==6.5.5->google-colab) (1.16.0)\n",
            "Requirement already satisfied: soupsieve>1.2 in /usr/local/lib/python3.10/dist-packages (from beautifulsoup4->nbconvert>=5->notebook==6.5.5->google-colab) (2.5)\n",
            "Requirement already satisfied: webencodings in /usr/local/lib/python3.10/dist-packages (from bleach->nbconvert>=5->notebook==6.5.5->google-colab) (0.5.1)\n",
            "Requirement already satisfied: sniffio>=1.1 in /usr/local/lib/python3.10/dist-packages (from anyio<4,>=3.1.0->jupyter-server>=1.8->nbclassic>=0.4.7->notebook==6.5.5->google-colab) (1.3.1)\n",
            "Requirement already satisfied: exceptiongroup in /usr/local/lib/python3.10/dist-packages (from anyio<4,>=3.1.0->jupyter-server>=1.8->nbclassic>=0.4.7->notebook==6.5.5->google-colab) (1.2.0)\n",
            "Requirement already satisfied: pycparser in /usr/local/lib/python3.10/dist-packages (from cffi>=1.0.1->argon2-cffi-bindings->argon2-cffi->notebook==6.5.5->google-colab) (2.22)\n",
            "Installing collected packages: jedi\n",
            "Successfully installed jedi-0.19.1\n"
          ]
        }
      ],
      "source": [
        "!pip install google-colab"
      ]
    },
    {
      "cell_type": "code",
      "execution_count": 1,
      "metadata": {
        "colab": {
          "base_uri": "https://localhost:8080/"
        },
        "id": "3jgeE3PPTj_6",
        "outputId": "feaf8b42-0618-49df-f227-898cdd3e47ce"
      },
      "outputs": [
        {
          "output_type": "stream",
          "name": "stdout",
          "text": [
            "Mounted at /content/drive\n"
          ]
        }
      ],
      "source": [
        "from google.colab import drive\n",
        "drive.mount('/content/drive')"
      ]
    },
    {
      "cell_type": "code",
      "execution_count": 2,
      "metadata": {
        "id": "IsUlpB8U6leV"
      },
      "outputs": [],
      "source": [
        "import os\n",
        "import numpy as np\n",
        "import cv2\n",
        "import glob\n",
        "import tensorflow as tf\n",
        "import re\n",
        "from tensorflow.keras.layers import  Input,Conv2D,BatchNormalization,Activation,Subtract,LeakyReLU,Add,Average,Lambda,MaxPool2D,Dropout,UpSampling2D,Concatenate,Multiply,Dense,ZeroPadding2D,AveragePooling2D\n",
        "from tensorflow.keras.layers import concatenate,Flatten,ConvLSTM2D,Layer,LayerNormalization,ReLU,MaxPooling2D,GlobalAveragePooling2D\n",
        "from tensorflow.keras.models import Model, load_model\n",
        "from tensorflow.keras.callbacks import CSVLogger, ModelCheckpoint, LearningRateScheduler\n",
        "from tensorflow.keras.optimizers import Adam\n",
        "import tensorflow.keras.backend as K\n",
        "import matplotlib.pyplot as plt\n",
        "import random\n",
        "import seaborn as sns"
      ]
    },
    {
      "cell_type": "code",
      "execution_count": 3,
      "metadata": {
        "id": "lWgcUs4QSZhN"
      },
      "outputs": [],
      "source": [
        "normal_dir = \"/content/drive/MyDrive/cleaned_dataset/Normal\"\n",
        "extensions = [\"*.png\", \"*.jpeg\", \"*.jpg\"]\n",
        "normal_files = []\n",
        "for ext in extensions:\n",
        "    \"\"\"Join the directory path with each extension and using glob.glob() to find matching files which are then\n",
        "    appended to normal_files list\"\"\"\n",
        "    normal_files.extend(glob.glob(os.path.join(normal_dir, ext)))"
      ]
    },
    {
      "cell_type": "code",
      "execution_count": 4,
      "metadata": {
        "id": "j3JJ6xyR6leX"
      },
      "outputs": [],
      "source": [
        "pneumonia_dir = \"/content/drive/MyDrive/cleaned_dataset/Pneumonia\"\n",
        "extensions = [\"*.png\", \"*.jpeg\", \"*.jpg\"]\n",
        "pneumonia_files = []\n",
        "for ext in extensions:\n",
        "    pneumonia_files.extend(glob.glob(os.path.join(pneumonia_dir, ext)))"
      ]
    },
    {
      "cell_type": "code",
      "execution_count": 5,
      "metadata": {
        "id": "O34YdvPq6leY"
      },
      "outputs": [],
      "source": [
        "covid_dir = \"/content/drive/MyDrive/cleaned_dataset/Covid\"\n",
        "extensions = [\"*.png\", \"*.jpeg\", \"*.jpg\"]\n",
        "covid_files = []\n",
        "for ext in extensions:\n",
        "    covid_files.extend(glob.glob(os.path.join(covid_dir, ext)))"
      ]
    },
    {
      "cell_type": "code",
      "execution_count": 6,
      "metadata": {
        "id": "PwEnH4wKYGa8"
      },
      "outputs": [],
      "source": [
        "normal_files.sort()\n",
        "covid_files.sort()\n",
        "pneumonia_files.sort()"
      ]
    },
    {
      "cell_type": "code",
      "execution_count": 7,
      "metadata": {
        "id": "-sXOSNWeHS8X"
      },
      "outputs": [],
      "source": [
        "# ~75% of each category is used in the training set\n",
        "file_lists = [covid_files[:900], normal_files[:900], pneumonia_files[:900]]\n",
        "labels = [[1, 0, 0], [0, 1, 0], [0, 0, 1]]\n",
        "train_dic = {f: label for file_list, label in zip(file_lists, labels) for f in sorted(file_list)}"
      ]
    },
    {
      "cell_type": "code",
      "execution_count": 8,
      "metadata": {
        "id": "uvR-V-pcHfEV"
      },
      "outputs": [],
      "source": [
        "# In-place shuffling of training set with 3 as the seed of the random number generator\n",
        "l = list(train_dic.items())\n",
        "random.Random(3).shuffle(l)\n"
      ]
    },
    {
      "cell_type": "code",
      "execution_count": 9,
      "metadata": {
        "id": "1kFyJji--nfK"
      },
      "outputs": [],
      "source": [
        "# ~10% of each category is used in the validation set\n",
        "file_lists = [covid_files[900:1020], normal_files[900:1020], pneumonia_files[900:1020]]\n",
        "labels = [[1, 0, 0], [0, 1, 0], [0, 0, 1]]\n",
        "val_dic = {f: label for file_list, label in zip(file_lists, labels) for f in sorted(file_list)}\n"
      ]
    },
    {
      "cell_type": "code",
      "execution_count": 10,
      "metadata": {
        "id": "fm5H2gHI__GD"
      },
      "outputs": [],
      "source": [
        "# In-place shuffling of validation set with 4 as the seed of the random number generator\n",
        "l_val = list(val_dic.items())\n",
        "random.seed(4)\n",
        "random.shuffle(l_val)"
      ]
    },
    {
      "cell_type": "code",
      "execution_count": 11,
      "metadata": {
        "id": "9bS9hfXv6leY"
      },
      "outputs": [],
      "source": [
        "# ~15% of each category is used in the test set\n",
        "file_lists = [covid_files[1020:1200], normal_files[1020:1200], pneumonia_files[1020:1200]]\n",
        "labels = [[1, 0, 0], [0, 1, 0], [0, 0, 1]]\n",
        "test_dic = {f: label for file_list, label in zip(file_lists, labels) for f in sorted(file_list)}"
      ]
    },
    {
      "cell_type": "code",
      "execution_count": 12,
      "metadata": {
        "id": "oSgDyI7H6leZ"
      },
      "outputs": [],
      "source": [
        "# In-place shuffling of testing set with 5 as the seed of the random number generator\n",
        "l_test = list(test_dic.items())\n",
        "random.Random(5).shuffle(l_test)\n"
      ]
    },
    {
      "cell_type": "code",
      "execution_count": 13,
      "metadata": {
        "colab": {
          "base_uri": "https://localhost:8080/"
        },
        "id": "YaNL-lttpKFi",
        "outputId": "26c6ec0f-5668-48ad-9e68-5ac0602f3ebc"
      },
      "outputs": [
        {
          "output_type": "stream",
          "name": "stdout",
          "text": [
            "360 540\n"
          ]
        }
      ],
      "source": [
        "print(len(l_val),len(l_test))"
      ]
    },
    {
      "cell_type": "code",
      "execution_count": 14,
      "metadata": {
        "colab": {
          "base_uri": "https://localhost:8080/"
        },
        "id": "XgQP9XQpHtxb",
        "outputId": "f75d751f-acac-4ba2-fc28-1496086490a3"
      },
      "outputs": [
        {
          "output_type": "stream",
          "name": "stdout",
          "text": [
            "(2700, 224, 224, 3)\n",
            "(2700, 3)\n",
            "Training set preparation completed\n"
          ]
        }
      ],
      "source": [
        "data = []\n",
        "labels = []\n",
        "for f,label in l:\n",
        "  img = cv2.imread(f)\n",
        "  img = img.astype('float32')/255.0 # Normalize the image\n",
        "  data.append(img)\n",
        "  labels.append(label)\n",
        "\n",
        "train_data = np.array(data)\n",
        "train_labels = np.array(labels)\n",
        "print(train_data.shape)\n",
        "print(train_labels.shape)\n",
        "print('Training set preparation completed')"
      ]
    },
    {
      "cell_type": "code",
      "execution_count": 15,
      "metadata": {
        "colab": {
          "base_uri": "https://localhost:8080/"
        },
        "id": "6twNO79pfFgs",
        "outputId": "83b77f87-c9de-4c50-9ed2-2f2fd55e9387"
      },
      "outputs": [
        {
          "output_type": "stream",
          "name": "stdout",
          "text": [
            "(360, 224, 224, 3)\n",
            "(360, 3)\n",
            "Validation set preparation completed\n"
          ]
        }
      ],
      "source": [
        "data = []\n",
        "labels = []\n",
        "\n",
        "for f, label in l_val:\n",
        "    # Read and normalize image\n",
        "    img = cv2.imread(f)\n",
        "    img = img.astype('float')/255.0\n",
        "    data.append(img)\n",
        "    labels.append(label)\n",
        "\n",
        "# Cast lists to numpy arrays\n",
        "val_data = np.array(data)\n",
        "val_labels = np.array(labels)\n",
        "\n",
        "print(val_data.shape)\n",
        "print(val_labels.shape)\n",
        "print(\"Validation set preparation completed\")"
      ]
    },
    {
      "cell_type": "code",
      "execution_count": 16,
      "metadata": {
        "colab": {
          "base_uri": "https://localhost:8080/"
        },
        "id": "FZWANIICQ6rz",
        "outputId": "7d7da5b4-0e56-4225-f4f9-7a2b3a49e556"
      },
      "outputs": [
        {
          "output_type": "stream",
          "name": "stdout",
          "text": [
            "(540, 224, 224, 3)\n",
            "(540, 3)\n",
            "Testing set preparation completed\n"
          ]
        }
      ],
      "source": [
        "data = []\n",
        "labels = []\n",
        "for f,label in l_test:\n",
        "  img = cv2.imread(f)\n",
        "  img = img.astype('float32')/255.0\n",
        "  data.append(img)\n",
        "  labels.append(label)\n",
        "\n",
        "test_data = np.array(data)\n",
        "test_labels = np.array(labels)\n",
        "print(test_data.shape)\n",
        "print(test_labels.shape)\n",
        "print('Testing set preparation completed')"
      ]
    },
    {
      "cell_type": "code",
      "execution_count": 17,
      "metadata": {
        "id": "WslhT4f49s28"
      },
      "outputs": [],
      "source": [
        "\n",
        "class ExpandDimsLayer(tf.keras.layers.Layer):\n",
        "    def __init__(self, axis, **kwargs):\n",
        "        super(ExpandDimsLayer, self).__init__(**kwargs)\n",
        "        self.axis = axis\n",
        "\n",
        "    def call(self, inputs):\n",
        "        return tf.expand_dims(inputs, axis=self.axis)\n",
        "\n",
        "Densenet_pred = load_model('/content/drive/MyDrive/Models/Densenet.h5',custom_objects={'ExpandDimsLayer': ExpandDimsLayer})"
      ]
    },
    {
      "cell_type": "code",
      "execution_count": 18,
      "metadata": {
        "id": "IqtMHt_KZXAP"
      },
      "outputs": [],
      "source": [
        "\n",
        "class ExpandDimsLayer(tf.keras.layers.Layer):\n",
        "    def __init__(self, axis, **kwargs):\n",
        "        super(ExpandDimsLayer, self).__init__(**kwargs)\n",
        "        self.axis = axis\n",
        "\n",
        "    def call(self, inputs):\n",
        "        return tf.expand_dims(inputs, axis=self.axis)\n",
        "vgg_pred = load_model('/content/drive/MyDrive/Models/vgg.h5',custom_objects={'ExpandDimsLayer': ExpandDimsLayer})\n"
      ]
    },
    {
      "cell_type": "code",
      "execution_count": 19,
      "metadata": {
        "id": "8ORV1j5m9s29"
      },
      "outputs": [],
      "source": [
        "\n",
        "class ExpandDimsLayer(tf.keras.layers.Layer):\n",
        "    def __init__(self, axis, **kwargs):\n",
        "        super(ExpandDimsLayer, self).__init__(**kwargs)\n",
        "        self.axis = axis\n",
        "\n",
        "    def call(self, inputs):\n",
        "        return tf.expand_dims(inputs, axis=self.axis)\n",
        "mobile_pred = load_model('/content/drive/MyDrive/Models/mobile.h5',custom_objects={'ExpandDimsLayer': ExpandDimsLayer})"
      ]
    },
    {
      "cell_type": "code",
      "execution_count": 20,
      "metadata": {
        "id": "fZS029fQ9s29"
      },
      "outputs": [],
      "source": [
        "\n",
        "class ExpandDimsLayer(tf.keras.layers.Layer):\n",
        "    def __init__(self, axis, **kwargs):\n",
        "        super(ExpandDimsLayer, self).__init__(**kwargs)\n",
        "        self.axis = axis\n",
        "\n",
        "    def call(self, inputs):\n",
        "        return tf.expand_dims(inputs, axis=self.axis)\n",
        "resnet_pred = load_model('/content/drive/MyDrive/Models/resnet.h5',custom_objects={'ExpandDimsLayer': ExpandDimsLayer})"
      ]
    },
    {
      "cell_type": "code",
      "execution_count": 21,
      "metadata": {
        "colab": {
          "base_uri": "https://localhost:8080/"
        },
        "id": "Ht7WMX9H9s29",
        "outputId": "45c9810b-4ac3-4da4-e7b8-5f7312bc2152"
      },
      "outputs": [
        {
          "output_type": "stream",
          "name": "stdout",
          "text": [
            "12/12 [==============================] - 10s 604ms/step - loss: 0.0848 - accuracy: 0.9806 - precision: 0.9806 - recall: 0.9806\n",
            "12/12 [==============================] - 9s 659ms/step - loss: 0.0684 - accuracy: 0.9861 - precision_1: 0.9861 - recall_1: 0.9861\n",
            "12/12 [==============================] - 3s 186ms/step - loss: 0.0540 - accuracy: 0.9806 - precision_2: 0.9806 - recall_2: 0.9806\n",
            "12/12 [==============================] - 6s 412ms/step - loss: 0.1194 - accuracy: 0.9694 - precision_3: 0.9694 - recall_3: 0.9694\n"
          ]
        },
        {
          "output_type": "execute_result",
          "data": {
            "text/plain": [
              "[0.1194312646985054,\n",
              " 0.9694444537162781,\n",
              " 0.9694444537162781,\n",
              " 0.9694444537162781]"
            ]
          },
          "metadata": {},
          "execution_count": 21
        }
      ],
      "source": [
        "Densenet_pred.evaluate(val_data,val_labels)\n",
        "vgg_pred.evaluate(val_data,val_labels)\n",
        "mobile_pred.evaluate(val_data,val_labels)\n",
        "resnet_pred.evaluate(val_data,val_labels)"
      ]
    },
    {
      "cell_type": "code",
      "execution_count": 22,
      "metadata": {
        "colab": {
          "base_uri": "https://localhost:8080/"
        },
        "id": "qHJSuG8HsIK4",
        "outputId": "d0d7ac09-1a44-4423-8b9f-b2d1fe73f29e"
      },
      "outputs": [
        {
          "output_type": "stream",
          "name": "stdout",
          "text": [
            "12/12 [==============================] - 10s 594ms/step\n",
            "12/12 [==============================] - 8s 646ms/step\n",
            "12/12 [==============================] - 3s 177ms/step\n",
            "12/12 [==============================] - 6s 418ms/step\n"
          ]
        }
      ],
      "source": [
        "val_den = Densenet_pred.predict(val_data)\n",
        "val_vgg = vgg_pred.predict(val_data)\n",
        "val_mob = mobile_pred.predict(val_data)\n",
        "val_res = resnet_pred.predict(val_data)"
      ]
    },
    {
      "cell_type": "code",
      "execution_count": 37,
      "metadata": {
        "colab": {
          "base_uri": "https://localhost:8080/"
        },
        "id": "ZhWs6Sa-sIK4",
        "outputId": "fb46bcb2-1abf-4e74-d7ab-5003f5db5fd2"
      },
      "outputs": [
        {
          "output_type": "stream",
          "name": "stdout",
          "text": [
            "The accuracy on validation set of Densenet, VGG, Mobilenet, Resnet are:\n",
            "\n",
            "[0.9805555555555555, 0.9861111111111112, 0.9805555555555555, 0.9694444444444444]\n",
            "Validation Accuracy: 0.9944444444444445\n",
            "              precision    recall  f1-score   support\n",
            "\n",
            "       Covid       1.00      1.00      1.00       120\n",
            "      Normal       1.00      0.98      0.99       120\n",
            "   Pneumonia       0.98      1.00      0.99       120\n",
            "\n",
            "    accuracy                           0.99       360\n",
            "   macro avg       0.99      0.99      0.99       360\n",
            "weighted avg       0.99      0.99      0.99       360\n",
            "\n"
          ]
        }
      ],
      "source": [
        "from sklearn.metrics import accuracy_score, classification_report\n",
        "from sklearn.metrics import confusion_matrix\n",
        "\n",
        "y_val_true_label_encoded = np.argmax(val_labels, axis=1)\n",
        "y_val_models = [np.argmax(val_den,axis=1),np.argmax(val_vgg,axis=1),np.argmax(val_mob,axis=1),np.argmax(val_res,axis=1)]\n",
        "accuracy_scores_model = [accuracy_score(y_val_true_label_encoded, _) for _ in y_val_models]\n",
        "print(\"The accuracy on validation set of Densenet, VGG, Mobilenet, Resnet are:\\n\")\n",
        "print(accuracy_scores_model)\n",
        "# Weights chosen experimentally on validation data\n",
        "chosen_weights = [1,1.5,1.2,1.1]\n",
        "\n",
        "# Multiply each prediction array with corresponding weight\n",
        "result_model = np.stack([s * v for s, v in zip(chosen_weights, [val_den, val_vgg, val_mob, val_res])])\n",
        "final_predictions_val_one_hot = np.mean(result_model, axis=0)\n",
        "y_val_pred_label_encoded = np.argmax(final_predictions_val_one_hot,axis=1)\n",
        "\n",
        "# Calculate accuracy and print the classification report\n",
        "accuracy_val = accuracy_score(y_val_true_label_encoded, y_val_pred_label_encoded)\n",
        "print(f'Validation Accuracy: {accuracy_val}')\n",
        "report_val = classification_report(y_val_true_label_encoded, y_val_pred_label_encoded,\n",
        "               labels=[0, 1, 2], target_names=['Covid', 'Normal', 'Pneumonia'])\n",
        "print(report_val)"
      ]
    },
    {
      "cell_type": "code",
      "execution_count": 38,
      "metadata": {
        "colab": {
          "base_uri": "https://localhost:8080/",
          "height": 695
        },
        "id": "pi1cNxZebcZN",
        "outputId": "6680af6d-d9cb-424c-dea8-536eafcb82b5"
      },
      "outputs": [
        {
          "output_type": "stream",
          "name": "stdout",
          "text": [
            "Confusion Matrix of Validation Set:\n",
            "[[120   0   0]\n",
            " [  0 118   2]\n",
            " [  0   0 120]]\n"
          ]
        },
        {
          "output_type": "display_data",
          "data": {
            "text/plain": [
              "<Figure size 1000x700 with 2 Axes>"
            ],
            "image/png": "[encoded data removed]"
          },
          "metadata": {}
        }
      ],
      "source": [
        "cm_val = confusion_matrix(y_val_true_label_encoded, y_val_pred_label_encoded)\n",
        "\n",
        "# Print the confusion matrix\n",
        "print('Confusion Matrix of Validation Set:')\n",
        "print(cm_val)\n",
        "\n",
        "# Visualize the confusion matrix\n",
        "plt.figure(figsize=(10,7))\n",
        "sns.heatmap(cm_val, annot=True, fmt='d', xticklabels=['Covid', 'Normal', 'Pneumonia'],\n",
        "            yticklabels=['Covid', 'Normal', 'Pneumonia'])\n",
        "plt.xlabel('Predicted')\n",
        "plt.ylabel('True')\n",
        "plt.show()"
      ]
    },
    {
      "cell_type": "code",
      "execution_count": 25,
      "metadata": {
        "colab": {
          "base_uri": "https://localhost:8080/"
        },
        "id": "NoDamNw1sxrQ",
        "outputId": "e845e089-db7d-4d50-aed8-b8291282f6e7"
      },
      "outputs": [
        {
          "output_type": "stream",
          "name": "stdout",
          "text": [
            "17/17 [==============================] - 11s 623ms/step - loss: 0.2809 - accuracy: 0.9593 - precision: 0.9593 - recall: 0.9593\n",
            "17/17 [==============================] - 12s 689ms/step - loss: 0.2916 - accuracy: 0.9630 - precision_1: 0.9647 - recall_1: 0.9630\n",
            "17/17 [==============================] - 3s 192ms/step - loss: 0.2136 - accuracy: 0.9481 - precision_2: 0.9498 - recall_2: 0.9463\n",
            "17/17 [==============================] - 8s 440ms/step - loss: 0.2355 - accuracy: 0.9704 - precision_3: 0.9704 - recall_3: 0.9704\n"
          ]
        },
        {
          "output_type": "execute_result",
          "data": {
            "text/plain": [
              "[0.23553596436977386, 0.970370352268219, 0.970370352268219, 0.970370352268219]"
            ]
          },
          "metadata": {},
          "execution_count": 25
        }
      ],
      "source": [
        "Densenet_pred.evaluate(test_data,test_labels)\n",
        "vgg_pred.evaluate(test_data,test_labels)\n",
        "mobile_pred.evaluate(test_data,test_labels)\n",
        "resnet_pred.evaluate(test_data,test_labels)"
      ]
    },
    {
      "cell_type": "code",
      "execution_count": 26,
      "metadata": {
        "colab": {
          "base_uri": "https://localhost:8080/"
        },
        "id": "H2jzkwf8fFx7",
        "outputId": "2408b876-09ac-4fe1-8375-27175540d5ab"
      },
      "outputs": [
        {
          "output_type": "stream",
          "name": "stdout",
          "text": [
            "17/17 [==============================] - 10s 616ms/step\n",
            "17/17 [==============================] - 12s 692ms/step\n",
            "17/17 [==============================] - 3s 188ms/step\n",
            "17/17 [==============================] - 8s 446ms/step\n"
          ]
        }
      ],
      "source": [
        "test_den = Densenet_pred.predict(test_data)\n",
        "test_vgg = vgg_pred.predict(test_data)\n",
        "test_mob = mobile_pred.predict(test_data)\n",
        "test_res = resnet_pred.predict(test_data)\n"
      ]
    },
    {
      "cell_type": "code",
      "execution_count": 39,
      "metadata": {
        "colab": {
          "base_uri": "https://localhost:8080/"
        },
        "id": "jOdGM2iXcLUB",
        "outputId": "7edc7bea-6e02-4815-e748-205be3c51cc3"
      },
      "outputs": [
        {
          "output_type": "stream",
          "name": "stdout",
          "text": [
            "The accuracy on Test set of Densenet, VGG, Mobilenet, Resnet are:\n",
            "\n",
            "[0.9592592592592593, 0.9629629629629629, 0.9481481481481482, 0.9703703703703703]\n",
            "Accuracy: 0.9722222222222222\n",
            "              precision    recall  f1-score   support\n",
            "\n",
            "       Covid       0.99      0.99      0.99       180\n",
            "      Normal       0.98      0.94      0.96       180\n",
            "   Pneumonia       0.95      0.98      0.97       180\n",
            "\n",
            "    accuracy                           0.97       540\n",
            "   macro avg       0.97      0.97      0.97       540\n",
            "weighted avg       0.97      0.97      0.97       540\n",
            "\n"
          ]
        }
      ],
      "source": [
        "# Each model's softmax output is multiplied by corresponding weight\n",
        "softmax_outputs_test = np.stack([s * v for s, v in zip(chosen_weights, [test_den, test_vgg, test_mob, test_res])])\n",
        "final_predictions_test_one_hot = np.mean(softmax_outputs_test, axis=0)\n",
        "\n",
        "# Convert one-hot encoded labels and predictions to label-encoded form\n",
        "y_test_true_label_encoded = np.argmax(test_labels, axis=1)\n",
        "y_test_pred_label_encoded = np.argmax(final_predictions_test_one_hot, axis=1)\n",
        "\n",
        "y_test_pred_models = [np.argmax(test_den,axis=1),np.argmax(test_vgg,axis=1),np.argmax(test_mob,axis=1),np.argmax(test_res,axis=1)]\n",
        "accuracy_models_test = [accuracy_score(mid,y_test_true_label_encoded) for mid in y_test_pred_models]\n",
        "print(\"The accuracy on Test set of Densenet, VGG, Mobilenet, Resnet are:\\n\")\n",
        "print(accuracy_models_test)\n",
        "\n",
        "# Calculate accuracy and print the classification report\n",
        "accuracy_test = accuracy_score(y_test_true_label_encoded, y_test_pred_label_encoded)\n",
        "print(f'Accuracy: {accuracy_test}')\n",
        "report_test = classification_report(y_test_true_label_encoded, y_test_pred_label_encoded,\n",
        "               labels=[0, 1, 2], target_names=['Covid', 'Normal', 'Pneumonia'])\n",
        "print(report_test)"
      ]
    },
    {
      "cell_type": "code",
      "execution_count": 40,
      "metadata": {
        "colab": {
          "base_uri": "https://localhost:8080/",
          "height": 690
        },
        "id": "9F7x_-KdcjhG",
        "outputId": "11613cd2-b18d-40ce-a399-cb2480e39816"
      },
      "outputs": [
        {
          "output_type": "stream",
          "name": "stdout",
          "text": [
            "Confusion Matrix of Test Set:\n",
            "[[178   2   0]\n",
            " [  1 170   9]\n",
            " [  1   2 177]]\n"
          ]
        },
        {
          "output_type": "display_data",
          "data": {
            "text/plain": [
              "<Figure size 1000x700 with 2 Axes>"
            ],
            "image/png": "[encoded data removed]"
          },
          "metadata": {}
        }
      ],
      "source": [
        "cm_test = confusion_matrix(y_test_true_label_encoded, y_test_pred_label_encoded)\n",
        "\n",
        "# Print the confusion matrix\n",
        "print('Confusion Matrix of Test Set:')\n",
        "print(cm_test)\n",
        "\n",
        "# Visualize the confusion matrix\n",
        "plt.figure(figsize=(10,7))\n",
        "sns.heatmap(cm_test, annot=True, fmt='d', xticklabels=['Covid', 'Normal', 'Pneumonia'],\n",
        "            yticklabels=['Covid', 'Normal', 'Pneumonia'])\n",
        "plt.xlabel('Predicted')\n",
        "plt.ylabel('True')\n",
        "plt.show()"
      ]
    },
    {
      "cell_type": "code",
      "execution_count": 41,
      "metadata": {
        "colab": {
          "base_uri": "https://localhost:8080/"
        },
        "id": "sbq6j_ZMuFWa",
        "outputId": "c38c3ce7-2428-4958-c96c-13451df0cdc1"
      },
      "outputs": [
        {
          "output_type": "stream",
          "name": "stdout",
          "text": [
            "85/85 [==============================] - 53s 620ms/step\n",
            "85/85 [==============================] - 59s 697ms/step\n",
            "85/85 [==============================] - 15s 179ms/step\n",
            "85/85 [==============================] - 37s 434ms/step\n"
          ]
        }
      ],
      "source": [
        "train_den = Densenet_pred.predict(train_data)\n",
        "train_vgg = vgg_pred.predict(train_data)\n",
        "train_mob = mobile_pred.predict(train_data)\n",
        "train_res = resnet_pred.predict(train_data)"
      ]
    },
    {
      "cell_type": "code",
      "execution_count": 42,
      "metadata": {
        "colab": {
          "base_uri": "https://localhost:8080/"
        },
        "id": "Y1t7NzYVunL7",
        "outputId": "db5bcd6c-af4b-4495-9225-c3311b2d22db"
      },
      "outputs": [
        {
          "output_type": "stream",
          "name": "stdout",
          "text": [
            "The accuracy on Training set of Densenet, VGG, Mobilenet, Resnet are:\n",
            "\n",
            "[1.0, 1.0, 0.9996296296296296, 0.9996296296296296]\n",
            "Accuracy: 1.0\n",
            "              precision    recall  f1-score   support\n",
            "\n",
            "       Covid       1.00      1.00      1.00       900\n",
            "      Normal       1.00      1.00      1.00       900\n",
            "   Pneumonia       1.00      1.00      1.00       900\n",
            "\n",
            "    accuracy                           1.00      2700\n",
            "   macro avg       1.00      1.00      1.00      2700\n",
            "weighted avg       1.00      1.00      1.00      2700\n",
            "\n"
          ]
        }
      ],
      "source": [
        "# Each model's softmax output is multiplied by corresponding weight\n",
        "softmax_outputs_train = np.stack([s * v for s, v in zip(chosen_weights, [train_den, train_vgg, train_mob, train_res])])\n",
        "final_predictions_train_one_hot = np.mean(softmax_outputs_train, axis=0)\n",
        "\n",
        "# Convert one-hot encoded labels and predictions to label-encoded form\n",
        "y_train_true_label_encoded = np.argmax(train_labels, axis=1)\n",
        "y_train_pred_label_encoded = np.argmax(final_predictions_train_one_hot, axis=1)\n",
        "\n",
        "y_train_pred_models = [np.argmax(train_den,axis=1),np.argmax(train_vgg,axis=1),np.argmax(train_mob,axis=1),np.argmax(train_res,axis=1)]\n",
        "accuracy_models_train = [accuracy_score(mid,y_train_true_label_encoded) for mid in y_train_pred_models]\n",
        "print(\"The accuracy on Training set of Densenet, VGG, Mobilenet, Resnet are:\\n\")\n",
        "print(accuracy_models_train)\n",
        "\n",
        "# Calculate accuracy and print the classification report\n",
        "accuracy_train = accuracy_score(y_train_true_label_encoded, y_train_pred_label_encoded)\n",
        "print(f'Accuracy: {accuracy_train}')\n",
        "report_test = classification_report(y_train_true_label_encoded, y_train_pred_label_encoded,\n",
        "               labels=[0, 1, 2], target_names=['Covid', 'Normal', 'Pneumonia'])\n",
        "print(report_test)"
      ]
    },
    {
      "cell_type": "code",
      "execution_count": 43,
      "metadata": {
        "colab": {
          "base_uri": "https://localhost:8080/",
          "height": 695
        },
        "id": "Q5kyAUe7ugL1",
        "outputId": "6bfa0431-eee1-4924-faa9-cc7f207c298d"
      },
      "outputs": [
        {
          "output_type": "stream",
          "name": "stdout",
          "text": [
            "Confusion Matrix of Training Set:\n",
            "[[900   0   0]\n",
            " [  0 900   0]\n",
            " [  0   0 900]]\n"
          ]
        },
        {
          "output_type": "display_data",
          "data": {
            "text/plain": [
              "<Figure size 1000x700 with 2 Axes>"
            ],
            "image/png": "[encoded data removed]"
          },
          "metadata": {}
        }
      ],
      "source": [
        "cm_train = confusion_matrix(y_train_true_label_encoded, y_train_pred_label_encoded)\n",
        "\n",
        "# Print the confusion matrix\n",
        "print('Confusion Matrix of Training Set:')\n",
        "print(cm_train)\n",
        "\n",
        "# Visualize the confusion matrix\n",
        "plt.figure(figsize=(10,7))\n",
        "sns.heatmap(cm_train, annot=True, fmt='d', xticklabels=['Covid', 'Normal', 'Pneumonia'],\n",
        "            yticklabels=['Covid', 'Normal', 'Pneumonia'])\n",
        "plt.xlabel('Predicted')\n",
        "plt.ylabel('True')\n",
        "plt.show()"
      ]
    },
    {
      "cell_type": "code",
      "execution_count": 44,
      "metadata": {
        "colab": {
          "base_uri": "https://localhost:8080/",
          "height": 690
        },
        "id": "1fX3hYGVvWWl",
        "outputId": "f889c6cd-5a25-43f2-e637-21483dfacb55"
      },
      "outputs": [
        {
          "output_type": "stream",
          "name": "stdout",
          "text": [
            "Confusion Matrix of Total Corpus:\n",
            "[[1198    2    0]\n",
            " [   1 1188   11]\n",
            " [   1    2 1197]]\n"
          ]
        },
        {
          "output_type": "display_data",
          "data": {
            "text/plain": [
              "<Figure size 1000x700 with 2 Axes>"
            ],
            "image/png": "[encoded data removed]"
          },
          "metadata": {}
        }
      ],
      "source": [
        "cm_total = cm_train + cm_test + cm_val\n",
        "\n",
        "# Print the confusion matrix\n",
        "print('Confusion Matrix of Total Corpus:')\n",
        "print(cm_total)\n",
        "\n",
        "# Visualize the confusion matrix\n",
        "plt.figure(figsize=(10,7))\n",
        "sns.heatmap(cm_total, annot=True, fmt='d', xticklabels=['Covid', 'Normal', 'Pneumonia'],\n",
        "            yticklabels=['Covid', 'Normal', 'Pneumonia'])\n",
        "plt.xlabel('Predicted')\n",
        "plt.ylabel('True')\n",
        "plt.show()"
      ]
    }
  ],
  "metadata": {
    "accelerator": "TPU",
    "colab": {
      "gpuType": "V28",
      "provenance": []
    },
    "kernelspec": {
      "display_name": "Python 3",
      "name": "python3"
    },
    "language_info": {
      "codemirror_mode": {
        "name": "ipython",
        "version": 3
      },
      "file_extension": ".py",
      "mimetype": "text/x-python",
      "name": "python",
      "nbconvert_exporter": "python",
      "pygments_lexer": "ipython3",
      "version": "3.9.19"
    }
  },
  "nbformat": 4,
  "nbformat_minor": 0
}